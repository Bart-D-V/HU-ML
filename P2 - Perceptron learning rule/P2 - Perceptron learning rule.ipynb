{
 "cells": [
  {
   "cell_type": "markdown",
   "metadata": {},
   "source": [
    "# P2 - Perceptron learning rule"
   ]
  },
  {
   "cell_type": "code",
   "execution_count": 10,
   "metadata": {},
   "outputs": [],
   "source": [
    "from perceptron import Perceptron, loss\n",
    "import random"
   ]
  },
  {
   "cell_type": "markdown",
   "metadata": {},
   "source": [
    "### train een perceptron tot een AND-poort"
   ]
  },
  {
   "cell_type": "code",
   "execution_count": 11,
   "metadata": {},
   "outputs": [
    {
     "name": "stdout",
     "output_type": "stream",
     "text": [
      "<Perceptron weights: [0.1988124228862785, 0.2849661211777159] en bias: -0.413239488991472>\n"
     ]
    }
   ],
   "source": [
    "train_AND = Perceptron([random.random(), random.random()], random.random())# make a perceptron with random weights and bias between 0 and 1\n",
    "\n",
    "AND = Perceptron([0.5, 0.5], -1) # a perceptron that simulates a AND gate te get the right target values.\n",
    "\n",
    "iterations = 100 # how many times the perceptrons trains.\n",
    "\n",
    "while iterations > 0:\n",
    "    inputs = [random.randint(0, 1) for _ in range(len(train_AND.weights))] # make random input for perceptron.\n",
    "    target = AND.activation(inputs) # get target value for random input.\n",
    "    \n",
    "    train_AND.update(inputs, target) # train\n",
    "    \n",
    "    iterations -= 1\n",
    "    \n",
    "print(train_AND)"
   ]
  },
  {
   "cell_type": "markdown",
   "metadata": {},
   "source": [
    "de weights zijn ongeveer: 0.2 en 0.28 en de bias: -0.4.\n",
    "met deze weights en bias heb je een AND-poort.\n",
    "\n",
    "dubbelcheck met de loss functie."
   ]
  },
  {
   "cell_type": "code",
   "execution_count": 18,
   "metadata": {},
   "outputs": [
    {
     "data": {
      "text/plain": [
       "0.0"
      ]
     },
     "execution_count": 18,
     "metadata": {},
     "output_type": "execute_result"
    }
   ],
   "source": [
    "preds = []\n",
    "targs = []\n",
    "\n",
    "iterations = 1000 # how many times the perceptrons trains.\n",
    "\n",
    "\"\"\"make a list with predictions and the target value\"\"\"\n",
    "while iterations > 0:\n",
    "    inputs = [random.randint(0, 1) for _ in range(len(train_AND.weights))] # make random input for perceptron.\n",
    "    preds.append(train_AND.activation(inputs)) # put prediction in prediction list\n",
    "    \n",
    "    targs.append(AND.activation(inputs)) # put target in target list\n",
    "    \n",
    "    iterations -= 1\n",
    "\n",
    "\"\"\"get total loss of all the iterations\"\"\" \n",
    "loss(preds, targs)"
   ]
  },
  {
   "cell_type": "markdown",
   "metadata": {},
   "source": [
    "de mean squared error is 0 dus hij klopt."
   ]
  },
  {
   "cell_type": "markdown",
   "metadata": {},
   "source": [
    "### train een perceptron tot een XOR-poort"
   ]
  },
  {
   "cell_type": "code",
   "execution_count": 43,
   "metadata": {},
   "outputs": [
    {
     "name": "stdout",
     "output_type": "stream",
     "text": [
      "<Perceptron weights: [0.09437661740721265, 0.016937175932754484] en bias: -0.0014863021685337652>\n"
     ]
    }
   ],
   "source": [
    "train_XOR = Perceptron([random.random(), random.random()], random.random())# make a perceptron with random weights and bias between 0 and 1\n",
    "\n",
    "iterations = 10000 # how many times the perceptrons trains.\n",
    "\n",
    "while iterations > 0:\n",
    "    inputs = [random.randint(0, 1) for _ in range(len(train_AND.weights))] # make random input for perceptron.\n",
    "    target = inputs[0]^inputs[1] # get target value for random input.\n",
    "    \n",
    "    train_XOR.update(inputs, target) # train\n",
    "    \n",
    "    iterations -= 1\n",
    "    \n",
    "print(train_XOR)"
   ]
  },
  {
   "cell_type": "markdown",
   "metadata": {},
   "source": [
    "de weights zijn ongeveer: 0.1 en 0.01 en de bias: -0.001.\n",
    "met deze weights en bias heb je geen XOR-poort. je kan een XOR-poort ook niet maken met een perceptron.\n",
    "\n",
    "dubbelcheck met de loss functie."
   ]
  },
  {
   "cell_type": "code",
   "execution_count": 45,
   "metadata": {},
   "outputs": [
    {
     "data": {
      "text/plain": [
       "0.234"
      ]
     },
     "execution_count": 45,
     "metadata": {},
     "output_type": "execute_result"
    }
   ],
   "source": [
    "preds = []\n",
    "targs = []\n",
    "\n",
    "iterations = 1000 # how many times the perceptrons trains.\n",
    "\n",
    "\"\"\"make a list with predictions and the target value\"\"\"\n",
    "while iterations > 0:\n",
    "    inputs = [random.randint(0, 1) for _ in range(len(train_XOR.weights))] # make random input for perceptron.\n",
    "    preds.append(train_XOR.activation(inputs)) # put prediction in prediction list\n",
    "    \n",
    "    targs.append(inputs[0]^inputs[1]) # put target in target list\n",
    "    \n",
    "    iterations -= 1\n",
    "\n",
    "\"\"\"get total loss of all the iterations\"\"\" \n",
    "loss(preds, targs)"
   ]
  },
  {
   "cell_type": "markdown",
   "metadata": {},
   "source": [
    "de laagste mean squared error die ik kon krijgen is 0.234."
   ]
  },
  {
   "cell_type": "markdown",
   "metadata": {},
   "source": [
    "## train een preceptron op de Iris-dataset"
   ]
  },
  {
   "cell_type": "code",
   "execution_count": 57,
   "metadata": {},
   "outputs": [],
   "source": [
    "from sklearn.datasets import load_iris\n",
    "\n",
    "random.seed('1758786') # student nummer as seed.\n",
    "\n",
    "iris_data = load_iris()\n",
    "target = list(iris_data.target)\n",
    "data = list(iris_data.data)"
   ]
  },
  {
   "cell_type": "markdown",
   "metadata": {},
   "source": [
    "### train de perceptron op het classificeren van de types Setosa en Versicolour"
   ]
  },
  {
   "cell_type": "code",
   "execution_count": 90,
   "metadata": {},
   "outputs": [
    {
     "name": "stdout",
     "output_type": "stream",
     "text": [
      "<Perceptron weights: [-0.21211831941397824, -0.29109048163645085, 0.5622547032667522, 0.09704799944100864] en bias: 0.11274352433111418>\n"
     ]
    }
   ],
   "source": [
    "set_ver_data = data[:-50] # get only setosa and versicolour data.\n",
    "set_ver_target = target[:-50]\n",
    "\n",
    "\"\"\"make iris perceptron with radom weights and bias\"\"\"\n",
    "iris1 = Perceptron([random.random(), random.random(), random.random(), random.random()], random.random())\n",
    "\n",
    "\"\"\"train perceptron for every iris in dataset\"\"\"\n",
    "for i in range(len(set_ver_data)):\n",
    "    iris1.update(set_ver_data[i], set_ver_target[i]) # train\n",
    "\n",
    "print(iris1)"
   ]
  },
  {
   "cell_type": "markdown",
   "metadata": {},
   "source": [
    "de weights zijn ongeveer: -0.21, -0.29, 0.56, 0.097 en de bias: 0.11.\n",
    "\n",
    "accuracy met de loss functie."
   ]
  },
  {
   "cell_type": "code",
   "execution_count": 91,
   "metadata": {},
   "outputs": [
    {
     "data": {
      "text/plain": [
       "0.0"
      ]
     },
     "execution_count": 91,
     "metadata": {},
     "output_type": "execute_result"
    }
   ],
   "source": [
    "preds = []\n",
    "\n",
    "\"\"\"make a list with predictions\"\"\"\n",
    "for i in set_ver_data:\n",
    "    preds.append(iris1.activation(i)) # put prediction in prediction list\n",
    "    \n",
    "    iterations -= 1\n",
    "\n",
    "\"\"\"get total loss of all the iterations\"\"\" \n",
    "loss(preds, set_ver_target)"
   ]
  },
  {
   "cell_type": "markdown",
   "metadata": {},
   "source": [
    "### train de perceptron op het classificeren van de types Versicolour en Verginica"
   ]
  },
  {
   "cell_type": "code",
   "execution_count": 149,
   "metadata": {},
   "outputs": [
    {
     "name": "stdout",
     "output_type": "stream",
     "text": [
      "<Perceptron weights: [-0.06514374266736894, -0.4749663714961107, 0.23969593873015807, 0.6258756228188677] en bias: 0.21849595972973876>\n"
     ]
    }
   ],
   "source": [
    "ver_ver_data = data[:100] # get only Versicolour en Verginica data.\n",
    "ver_ver_target = target[:100]\n",
    "\n",
    "\"\"\"make iris perceptron with radom weights and bias\"\"\"\n",
    "iris2 = Perceptron([random.random(), random.random(), random.random(), random.random()], random.random())\n",
    "\n",
    "\"\"\"train perceptron for every iris in dataset\"\"\"\n",
    "for i in range(len(ver_ver_data)):\n",
    "    iris2.update(ver_ver_data[i], ver_ver_target[i]) # train\n",
    "\n",
    "print(iris2)"
   ]
  },
  {
   "cell_type": "markdown",
   "metadata": {},
   "source": [
    "de weights zijn ongeveer: -0.18, 0.38, 0.38, 0.6 en de bias: 0.62.\n",
    "\n",
    "accuracy met de loss functie."
   ]
  },
  {
   "cell_type": "code",
   "execution_count": 150,
   "metadata": {},
   "outputs": [
    {
     "data": {
      "text/plain": [
       "0.0"
      ]
     },
     "execution_count": 150,
     "metadata": {},
     "output_type": "execute_result"
    }
   ],
   "source": [
    "preds = []\n",
    "\n",
    "\"\"\"make a list with predictions\"\"\"\n",
    "for i in ver_ver_data:\n",
    "    preds.append(iris2.activation(i)) # put prediction in prediction list\n",
    "    \n",
    "    iterations -= 1\n",
    "\n",
    "\"\"\"get total loss of all the iterations\"\"\" \n",
    "loss(preds, ver_ver_target)"
   ]
  },
  {
   "cell_type": "markdown",
   "metadata": {},
   "source": [
    "de mean squared error is altijd 0 of 0.5"
   ]
  },
  {
   "cell_type": "code",
   "execution_count": 151,
   "metadata": {},
   "outputs": [
    {
     "name": "stdout",
     "output_type": "stream",
     "text": [
      "0\n",
      "0\n",
      "0\n",
      "0\n",
      "0\n",
      "0\n",
      "0\n",
      "0\n",
      "0\n",
      "0\n",
      "0\n",
      "0\n",
      "0\n",
      "0\n",
      "0\n",
      "0\n",
      "0\n",
      "0\n",
      "0\n",
      "0\n",
      "0\n",
      "0\n",
      "0\n",
      "0\n",
      "0\n",
      "0\n",
      "0\n",
      "0\n",
      "0\n",
      "0\n",
      "0\n",
      "0\n",
      "0\n",
      "0\n",
      "0\n",
      "0\n",
      "0\n",
      "0\n",
      "0\n",
      "0\n",
      "0\n",
      "0\n",
      "0\n",
      "0\n",
      "0\n",
      "0\n",
      "0\n",
      "0\n",
      "0\n",
      "0\n",
      "0\n",
      "0\n",
      "0\n",
      "0\n",
      "0\n",
      "0\n",
      "0\n",
      "0\n",
      "0\n",
      "0\n",
      "0\n",
      "0\n",
      "0\n",
      "0\n",
      "0\n",
      "0\n",
      "0\n",
      "0\n",
      "0\n",
      "0\n",
      "0\n",
      "0\n",
      "0\n",
      "0\n",
      "0\n",
      "0\n",
      "0\n",
      "0\n",
      "0\n",
      "0\n",
      "0\n",
      "0\n",
      "0\n",
      "0\n",
      "0\n",
      "0\n",
      "0\n",
      "0\n",
      "0\n",
      "0\n",
      "0\n",
      "0\n",
      "0\n",
      "0\n",
      "0\n",
      "0\n",
      "0\n",
      "0\n",
      "0\n",
      "0\n",
      "1\n",
      "1\n",
      "1\n",
      "1\n",
      "1\n",
      "1\n",
      "1\n",
      "1\n",
      "1\n",
      "1\n",
      "1\n",
      "1\n",
      "1\n",
      "1\n",
      "1\n",
      "1\n",
      "1\n",
      "1\n",
      "1\n",
      "1\n",
      "1\n",
      "1\n",
      "1\n",
      "1\n",
      "1\n",
      "1\n",
      "1\n",
      "1\n",
      "1\n",
      "1\n",
      "1\n",
      "1\n",
      "1\n",
      "1\n",
      "1\n",
      "1\n",
      "1\n",
      "1\n",
      "1\n",
      "1\n",
      "1\n",
      "1\n",
      "1\n",
      "1\n",
      "1\n",
      "1\n",
      "1\n",
      "1\n",
      "1\n",
      "1\n",
      "1\n",
      "1\n",
      "1\n",
      "1\n",
      "1\n",
      "1\n",
      "1\n",
      "1\n",
      "1\n",
      "1\n",
      "1\n",
      "1\n",
      "1\n",
      "1\n",
      "1\n",
      "1\n",
      "1\n",
      "1\n",
      "1\n",
      "1\n",
      "1\n",
      "1\n",
      "1\n",
      "1\n",
      "1\n",
      "1\n",
      "1\n",
      "1\n",
      "1\n",
      "1\n",
      "1\n",
      "1\n",
      "1\n",
      "1\n",
      "1\n",
      "1\n",
      "1\n",
      "1\n",
      "1\n",
      "1\n",
      "1\n",
      "1\n",
      "1\n",
      "1\n",
      "1\n",
      "1\n",
      "1\n",
      "1\n",
      "1\n",
      "1\n"
     ]
    }
   ],
   "source": [
    "for i in range(len(preds)):\n",
    "    print(preds[i])\n",
    "    print(ver_ver_target[i])"
   ]
  },
  {
   "cell_type": "markdown",
   "metadata": {},
   "source": [
    "de perceptron voorspelt soms altijd dezelfde waarde. dit zorgd ervoor dat de mean squared error dan 0.5 is omdat de voorspellende waardes 0 of 1 zijn."
   ]
  },
  {
   "cell_type": "markdown",
   "metadata": {},
   "source": [
    "kijken of dit probleem zich oplost door de perceptron meerdere keren trainen op de dataset. "
   ]
  },
  {
   "cell_type": "code",
   "execution_count": 164,
   "metadata": {},
   "outputs": [
    {
     "name": "stdout",
     "output_type": "stream",
     "text": [
      "<Perceptron weights: [-0.05237053961268051, -0.48467192298636463, 0.30007514815621283, 0.1544878898840285] en bias: 0.6766862211648206>\n"
     ]
    }
   ],
   "source": [
    "\"\"\"make iris perceptron with radom weights and bias\"\"\"\n",
    "iris3 = Perceptron([random.random(), random.random(), random.random(), random.random()], random.random())\n",
    "\n",
    "epochs = 5\n",
    "\"\"\"train perceptron for every iris in dataset\"\"\"\n",
    "while epochs > 0:\n",
    "    for i in range(len(ver_ver_data)):\n",
    "        iris3.update(ver_ver_data[i], ver_ver_target[i]) # train\n",
    "    epochs -= 1\n",
    "\n",
    "print(iris3)"
   ]
  },
  {
   "cell_type": "code",
   "execution_count": 165,
   "metadata": {},
   "outputs": [
    {
     "data": {
      "text/plain": [
       "0.0"
      ]
     },
     "execution_count": 165,
     "metadata": {},
     "output_type": "execute_result"
    }
   ],
   "source": [
    "preds = []\n",
    "\n",
    "\"\"\"make a list with predictions\"\"\"\n",
    "for i in ver_ver_data:\n",
    "    preds.append(iris3.activation(i)) # put prediction in prediction list\n",
    "    \n",
    "    iterations -= 1\n",
    "\n",
    "\"\"\"get total loss of all the iterations\"\"\" \n",
    "loss(preds, ver_ver_target)"
   ]
  },
  {
   "cell_type": "markdown",
   "metadata": {},
   "source": [
    "met 5 epochs verspelt de perceptron niet meer steeds een dezelfde waarde. en voorspelt de perceptron met meer epcohs accurater"
   ]
  },
  {
   "cell_type": "code",
   "execution_count": null,
   "metadata": {},
   "outputs": [],
   "source": []
  }
 ],
 "metadata": {
  "kernelspec": {
   "display_name": "Python 3",
   "language": "python",
   "name": "python3"
  },
  "language_info": {
   "codemirror_mode": {
    "name": "ipython",
    "version": 3
   },
   "file_extension": ".py",
   "mimetype": "text/x-python",
   "name": "python",
   "nbconvert_exporter": "python",
   "pygments_lexer": "ipython3",
   "version": "3.7.6"
  }
 },
 "nbformat": 4,
 "nbformat_minor": 4
}
