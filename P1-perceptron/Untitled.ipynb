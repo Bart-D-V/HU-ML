{
 "cells": [
  {
   "cell_type": "markdown",
   "metadata": {},
   "source": [
    "# p1 - perceptron"
   ]
  },
  {
   "cell_type": "code",
   "execution_count": 17,
   "metadata": {},
   "outputs": [],
   "source": [
    "from typing import List\n",
    "from test_help import "
   ]
  },
  {
   "cell_type": "markdown",
   "metadata": {},
   "source": [
    "## perceptron unit"
   ]
  },
  {
   "cell_type": "code",
   "execution_count": 34,
   "metadata": {},
   "outputs": [],
   "source": [
    "class Perceptron:\n",
    "    \"\"\"parameters perceptron\"\"\"\n",
    "    weights: List[float]\n",
    "    bias: float\n",
    "\n",
    "    def __init__(self, weights: List[float], bias: float):\n",
    "        \"\"\"give a list of weights and a bias for perceptron\"\"\"\n",
    "        self.weights = weights\n",
    "        self.bias = bias\n",
    "\n",
    "    def activation(self, inputs: List[float]) -> float:\n",
    "        \"\"\" activation of the weights if input is 1. then give the sum of the weights + bias\"\"\"\n",
    "        weight_sum = sum([input_value * weight for input_value, weight in zip(inputs, self.weights)]) + self.bias\n",
    "        \"\"\"check if sum of weights > threshold\"\"\"\n",
    "        if weight_sum >= 0:\n",
    "            return 1\n",
    "        else:\n",
    "            return 0\n",
    "\n",
    "    def __str__(self):\n",
    "        return \"Perceptron weights: \" + str(self.weights) + \" en bias: \" + str(self.bias)\n"
   ]
  },
  {
   "cell_type": "markdown",
   "metadata": {},
   "source": [
    "### test perceptron"
   ]
  },
  {
   "cell_type": "code",
   "execution_count": 35,
   "metadata": {},
   "outputs": [
    {
     "name": "stdout",
     "output_type": "stream",
     "text": [
      "0\n"
     ]
    }
   ],
   "source": []
  },
  {
   "cell_type": "markdown",
   "metadata": {},
   "source": [
    "## perceptron layer"
   ]
  },
  {
   "cell_type": "code",
   "execution_count": 36,
   "metadata": {},
   "outputs": [],
   "source": [
    "class PerceptronLayer:\n",
    "\n",
    "    perceptrons: List[Perceptron]\n",
    "\n",
    "    def __init__(self, perceptrons: List[Perceptron]):\n",
    "        self.perceptrons = perceptrons\n"
   ]
  },
  {
   "cell_type": "markdown",
   "metadata": {},
   "source": [
    "## perceptron network"
   ]
  },
  {
   "cell_type": "code",
   "execution_count": 41,
   "metadata": {},
   "outputs": [],
   "source": [
    "class PerceptronNetwork:\n",
    "    perceptron_layers: List[PerceptronLayer]\n",
    "\n",
    "    def __init__(self, perceptron_layers: List[PerceptronLayer]):\n",
    "        self.perceptron_layers = perceptron_layers\n",
    "\n",
    "    def feed_forward(self, inputs: List[float]) -> List[List[float]]:\n",
    "        output_and_input = [inputs]\n",
    "\n",
    "        for layer in self.perceptron_layers:\n",
    "            print(output_and_input)\n",
    "            output_and_input.append(list(pc.activation(output_and_input[-1]) for pc in layer.perceptrons))\n",
    "\n",
    "        return output_and_input[-1]\n"
   ]
  },
  {
   "cell_type": "markdown",
   "metadata": {},
   "source": [
    "### test perceptron network"
   ]
  },
  {
   "cell_type": "code",
   "execution_count": null,
   "metadata": {},
   "outputs": [],
   "source": []
  }
 ],
 "metadata": {
  "kernelspec": {
   "display_name": "Python 3",
   "language": "python",
   "name": "python3"
  },
  "language_info": {
   "codemirror_mode": {
    "name": "ipython",
    "version": 3
   },
   "file_extension": ".py",
   "mimetype": "text/x-python",
   "name": "python",
   "nbconvert_exporter": "python",
   "pygments_lexer": "ipython3",
   "version": "3.7.6"
  }
 },
 "nbformat": 4,
 "nbformat_minor": 4
}
