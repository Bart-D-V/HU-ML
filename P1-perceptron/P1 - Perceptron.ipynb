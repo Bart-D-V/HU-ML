{
 "cells": [
  {
   "cell_type": "markdown",
   "metadata": {},
   "source": [
    "# p1 - perceptron"
   ]
  },
  {
   "cell_type": "code",
   "execution_count": 11,
   "metadata": {},
   "outputs": [],
   "source": [
    "from typing import List\n",
    "from test_help import all_possible_inputs, print_perceptron, print_perceptron_network"
   ]
  },
  {
   "cell_type": "markdown",
   "metadata": {},
   "source": [
    "## perceptron unit"
   ]
  },
  {
   "cell_type": "code",
   "execution_count": 12,
   "metadata": {},
   "outputs": [],
   "source": [
    "class Perceptron:\n",
    "    \"\"\"parameters perceptron\"\"\"\n",
    "    weights: List[float]\n",
    "    bias: float\n",
    "\n",
    "    def __init__(self, weights: List[float], bias: float):\n",
    "        \"\"\"give a list of weights and a bias for perceptron\"\"\"\n",
    "        self.weights = weights\n",
    "        self.bias = bias\n",
    "\n",
    "    def activation(self, inputs: List[float]) -> float:\n",
    "        \"\"\" activation of the weights if input is 1. then give the sum of the weights + bias\"\"\"\n",
    "        weight_sum = sum([input_value * weight for input_value, weight in zip(inputs, self.weights)]) + self.bias\n",
    "        \"\"\"check if sum of weights > threshold\"\"\"\n",
    "        if weight_sum >= 0:\n",
    "            return 1\n",
    "        else:\n",
    "            return 0\n",
    "\n",
    "    def __str__(self):\n",
    "        return \"Perceptron weights: \" + str(self.weights) + \" en bias: \" + str(self.bias)\n"
   ]
  },
  {
   "cell_type": "markdown",
   "metadata": {},
   "source": [
    "### test perceptron"
   ]
  },
  {
   "cell_type": "markdown",
   "metadata": {},
   "source": [
    "INVERT-poort"
   ]
  },
  {
   "cell_type": "code",
   "execution_count": 13,
   "metadata": {},
   "outputs": [
    {
     "name": "stdout",
     "output_type": "stream",
     "text": [
      "met input: [0] is output: 1\n",
      "met input: [1] is output: 0\n"
     ]
    }
   ],
   "source": [
    "INVERT = Perceptron([-1.0], 0.5)\n",
    "print_perceptron(INVERT)"
   ]
  },
  {
   "cell_type": "markdown",
   "metadata": {},
   "source": [
    "AND-poort"
   ]
  },
  {
   "cell_type": "code",
   "execution_count": 14,
   "metadata": {},
   "outputs": [
    {
     "name": "stdout",
     "output_type": "stream",
     "text": [
      "met input: [0, 0] is output: 0\n",
      "met input: [0, 1] is output: 0\n",
      "met input: [1, 0] is output: 0\n",
      "met input: [1, 1] is output: 1\n"
     ]
    }
   ],
   "source": [
    "AND = Perceptron([0.5, 0.5], -1)\n",
    "print_perceptron(AND)"
   ]
  },
  {
   "cell_type": "markdown",
   "metadata": {},
   "source": [
    "OR-poort"
   ]
  },
  {
   "cell_type": "code",
   "execution_count": 15,
   "metadata": {},
   "outputs": [
    {
     "name": "stdout",
     "output_type": "stream",
     "text": [
      "met input: [0, 0] is output: 0\n",
      "met input: [0, 1] is output: 1\n",
      "met input: [1, 0] is output: 1\n",
      "met input: [1, 1] is output: 1\n"
     ]
    }
   ],
   "source": [
    "OR = Perceptron([0.5, 0.5], -0.5)\n",
    "print_perceptron(OR)"
   ]
  },
  {
   "cell_type": "markdown",
   "metadata": {},
   "source": [
    "NOR-poort"
   ]
  },
  {
   "cell_type": "code",
   "execution_count": 16,
   "metadata": {},
   "outputs": [
    {
     "name": "stdout",
     "output_type": "stream",
     "text": [
      "met input: [0, 0] is output: 1\n",
      "met input: [0, 1] is output: 0\n",
      "met input: [1, 0] is output: 0\n",
      "met input: [1, 1] is output: 0\n"
     ]
    }
   ],
   "source": [
    "NOR = Perceptron([-1.0, -1.0], 0.5)\n",
    "print_perceptron(NOR)"
   ]
  },
  {
   "cell_type": "markdown",
   "metadata": {},
   "source": [
    "figuur 2.8 uit de reader"
   ]
  },
  {
   "cell_type": "code",
   "execution_count": 17,
   "metadata": {},
   "outputs": [
    {
     "name": "stdout",
     "output_type": "stream",
     "text": [
      "met input: [0, 0, 0] is output: 0\n",
      "met input: [0, 0, 1] is output: 0\n",
      "met input: [0, 1, 0] is output: 0\n",
      "met input: [0, 1, 1] is output: 1\n",
      "met input: [1, 0, 0] is output: 1\n",
      "met input: [1, 0, 1] is output: 1\n",
      "met input: [1, 1, 0] is output: 1\n",
      "met input: [1, 1, 1] is output: 1\n"
     ]
    }
   ],
   "source": [
    "fig = Perceptron([0.6, 0.3, 0.2], -0.4)\n",
    "\n",
    "print_perceptron(fig)"
   ]
  },
  {
   "cell_type": "markdown",
   "metadata": {},
   "source": [
    "## perceptron layer"
   ]
  },
  {
   "cell_type": "code",
   "execution_count": 18,
   "metadata": {},
   "outputs": [],
   "source": [
    "class PerceptronLayer:\n",
    "    \"\"\"a layer has one or more perceptrons\"\"\"\n",
    "    perceptrons: List[Perceptron]\n",
    "\n",
    "    def __init__(self, perceptrons: List[Perceptron]):\n",
    "        self.perceptrons = perceptrons\n"
   ]
  },
  {
   "cell_type": "markdown",
   "metadata": {},
   "source": [
    "## perceptron network"
   ]
  },
  {
   "cell_type": "code",
   "execution_count": 21,
   "metadata": {},
   "outputs": [],
   "source": [
    "class PerceptronNetwork:\n",
    "    \"\"\"a network has one or more layers\"\"\"\n",
    "    perceptron_layers: List[PerceptronLayer]\n",
    "\n",
    "    def __init__(self, perceptron_layers: List[PerceptronLayer]):\n",
    "        self.perceptron_layers = perceptron_layers\n",
    "\n",
    "    def feed_forward(self, inputs: List[float]) -> List[List[float]]:\n",
    "        \"\"\"gives ouput of a network given a input\"\"\"\n",
    "        output_and_input = [inputs]\n",
    "        \"\"\"input and output is used to store the output of a layer and uses it as a input for the next layer\"\"\"\n",
    "        for layer in self.perceptron_layers:\n",
    "            \"\"\"loop through all the layers\"\"\"\n",
    "            output_and_input.append(list(pc.activation(output_and_input[-1]) for pc in layer.perceptrons))\n",
    "            \n",
    "        return output_and_input[-1]\n"
   ]
  },
  {
   "cell_type": "markdown",
   "metadata": {},
   "source": [
    "### test perceptron network"
   ]
  },
  {
   "cell_type": "markdown",
   "metadata": {},
   "source": [
    "XOR-poort"
   ]
  },
  {
   "cell_type": "code",
   "execution_count": 23,
   "metadata": {},
   "outputs": [
    {
     "name": "stdout",
     "output_type": "stream",
     "text": [
      "met input: [0, 0] is de output: [0]\n",
      "met input: [0, 1] is de output: [1]\n",
      "met input: [1, 0] is de output: [1]\n",
      "met input: [1, 1] is de output: [0]\n"
     ]
    }
   ],
   "source": [
    "XOR = PerceptronNetwork([\n",
    "            PerceptronLayer([\n",
    "                Perceptron([0.5, 0.5], -0.5),  # OR-gate\n",
    "                Perceptron([-0.5, -0.5], 0.5),  # NAND-gate\n",
    "            ]),\n",
    "                PerceptronLayer([\n",
    "                Perceptron([0.5, 0.5], -1),  # AND-gate\n",
    "            ]),\n",
    "])\n",
    "\n",
    "print_perceptron_network(XOR)"
   ]
  },
  {
   "cell_type": "markdown",
   "metadata": {},
   "source": [
    "half adder"
   ]
  },
  {
   "cell_type": "code",
   "execution_count": 25,
   "metadata": {},
   "outputs": [
    {
     "name": "stdout",
     "output_type": "stream",
     "text": [
      "met input: [0, 0] is de output: [0, 0]\n",
      "met input: [0, 1] is de output: [1, 0]\n",
      "met input: [1, 0] is de output: [1, 0]\n",
      "met input: [1, 1] is de output: [0, 1]\n"
     ]
    }
   ],
   "source": [
    "half_adder = PerceptronNetwork([\n",
    "                PerceptronLayer([\n",
    "                    Perceptron([0.5, 0.5], -.5),  # OR-gate\n",
    "                    Perceptron([-.5, -.5], 0.5),  # NAND-gate\n",
    "                ]),\n",
    "                PerceptronLayer([\n",
    "                    Perceptron([0.5, 0.5], -1.0),  # AND-gate\n",
    "                    Perceptron([0.0, -1.0], 0.5),  # NOT-gate\n",
    "                ]),\n",
    "])\n",
    "\n",
    "print_perceptron_network(half_adder)"
   ]
  },
  {
   "cell_type": "code",
   "execution_count": null,
   "metadata": {},
   "outputs": [],
   "source": []
  }
 ],
 "metadata": {
  "kernelspec": {
   "display_name": "Python 3",
   "language": "python",
   "name": "python3"
  },
  "language_info": {
   "codemirror_mode": {
    "name": "ipython",
    "version": 3
   },
   "file_extension": ".py",
   "mimetype": "text/x-python",
   "name": "python",
   "nbconvert_exporter": "python",
   "pygments_lexer": "ipython3",
   "version": "3.7.6"
  }
 },
 "nbformat": 4,
 "nbformat_minor": 4
}
