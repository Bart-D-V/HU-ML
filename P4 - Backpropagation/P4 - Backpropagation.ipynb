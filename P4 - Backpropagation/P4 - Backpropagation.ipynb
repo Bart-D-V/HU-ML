{
 "cells": [
  {
   "cell_type": "markdown",
   "metadata": {},
   "source": [
    "# P4 Backpropagation"
   ]
  },
  {
   "cell_type": "code",
   "execution_count": null,
   "metadata": {},
   "outputs": [],
   "source": [
    "from typing import List\n",
    "import math"
   ]
  },
  {
   "cell_type": "markdown",
   "metadata": {},
   "source": [
    "## Neuron klasse"
   ]
  },
  {
   "cell_type": "code",
   "execution_count": null,
   "metadata": {},
   "outputs": [],
   "source": [
    "class Neuron:\n",
    "    \"\"\"parameters neuron\"\"\"\n",
    "    weights: List[float]\n",
    "    bias: float\n",
    "    error: float\n",
    "    inputs: List[float]\n",
    "    input_sum: float\n",
    "    output: float\n",
    "\n",
    "    def __init__(self, weights: List[float], bias: float):\n",
    "        \"\"\"give a list of weights and a bias for neuron\"\"\"\n",
    "        self.weights = weights\n",
    "        self.bias = bias\n",
    "\n",
    "    def output(self, inputs: List[float]) -> float:\n",
    "        self.inputs = inputs\n",
    "        self.input_sum = sum([input_value * weight for input_value, weight in zip(inputs, self.weights)]) + self.bias\n",
    "        self.output = sigmoid(self.inputs_sum)\n",
    "        return self.output\n",
    "    \n",
    "    def output_error(self, target: float):\n",
    "        \"\"\"calculates the error of the output\"\"\"\n",
    "        self.error = deriv_sigmoid(self.input_sum) * -(target - self.output)\n",
    "        return self.error\n",
    "\n",
    "    def __str__(self):\n",
    "        return f\"<Neuron weights: {self.weights} en bias: {self.bias}>\""
   ]
  },
  {
   "cell_type": "markdown",
   "metadata": {},
   "source": [
    "### sigmoid functie en de afgeleide van de sigmoid"
   ]
  },
  {
   "cell_type": "code",
   "execution_count": null,
   "metadata": {},
   "outputs": [],
   "source": [
    "def sigmoid(x: float):\n",
    "    return 1 / (1 + math.e ** (-x))\n",
    "\n",
    "\n",
    "def deriv_sigmoid(x: float):\n",
    "    return sigmoid(x) * (1 - sigmoid(x))"
   ]
  }
 ],
 "metadata": {
  "kernelspec": {
   "display_name": "Python 3",
   "language": "python",
   "name": "python3"
  },
  "language_info": {
   "codemirror_mode": {
    "name": "ipython",
    "version": 3
   },
   "file_extension": ".py",
   "mimetype": "text/x-python",
   "name": "python",
   "nbconvert_exporter": "python",
   "pygments_lexer": "ipython3",
   "version": "3.7.6"
  }
 },
 "nbformat": 4,
 "nbformat_minor": 4
}
