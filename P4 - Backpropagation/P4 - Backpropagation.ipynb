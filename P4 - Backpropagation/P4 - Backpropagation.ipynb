{
 "cells": [
  {
   "cell_type": "markdown",
   "metadata": {},
   "source": [
    "# P4 Backpropagation"
   ]
  },
  {
   "cell_type": "code",
   "execution_count": null,
   "metadata": {},
   "outputs": [],
   "source": [
    "from typing import List\n",
    "import math"
   ]
  },
  {
   "cell_type": "markdown",
   "metadata": {},
   "source": [
    "## Neuron klasse"
   ]
  },
  {
   "cell_type": "code",
   "execution_count": null,
   "metadata": {},
   "outputs": [],
   "source": [
    "class Neuron:\n",
    "    \"\"\"parameters neuron\"\"\"\n",
    "    weights: List[float]\n",
    "    bias: float\n",
    "    error: float\n",
    "    inputs: List[float]\n",
    "    input_sum: float\n",
    "    output: float\n",
    "    weight_deltas: List[float]\n",
    "    bias_delta: float\n",
    "\n",
    "    def __init__(self, weights: List[float], bias: float):\n",
    "        \"\"\"give a list of weights and a bias for neuron\"\"\"\n",
    "        self.weights = weights\n",
    "        self.bias = bias\n",
    "\n",
    "    def output(self, inputs: List[float]) -> float:\n",
    "        \"\"\"give output of a neuron with a given input, weights and bias. \n",
    "        also saves the input, input sum and the output to use later to calculate the deltas\"\"\"\n",
    "        self.inputs = inputs\n",
    "        self.input_sum = sum([input_value * weight for input_value, weight in zip(inputs, self.weights)]) + self.bias\n",
    "        self.output = sigmoid(self.inputs_sum)\n",
    "        return self.output\n",
    "    \n",
    "    def output_error(self, target: float):\n",
    "        \"\"\"calculates the error of the output of a outputneuron\"\"\"\n",
    "        self.error = deriv_sigmoid(self.input_sum) * -(target - self.output)\n",
    "        return self.error\n",
    "    \n",
    "    def hidden_output_error(self, weights: list[float], errors: list[float]):\n",
    "        \"\"\"calculates the error of the output of a hiddenneuron\"\"\"\n",
    "        self.error = deriv_sigmoid(self.input_sum * sum([weight * error for weight, error in zip(weights, errors)]))\n",
    "        return self.error\n",
    "        \n",
    "    def delta_weight(self, learning_rate, output):\n",
    "        \"\"\"calculate delta of a weight\"\"\"\n",
    "        return learning_rate * output * self.error\n",
    "    \n",
    "    def deltas_weights_bias(self, learning_rate):\n",
    "        \"\"\"calculates the delta bias and saves the deltas of the weights and bias to update later when all the deltas are calculated\"\"\"\n",
    "        deltas = List[]\n",
    "        for i in range(weights):\n",
    "            deltas.append(delta_weight(learning_rate, self.inputs[i]))\n",
    "        \n",
    "        self.weight_deltas = deltas\n",
    "        self.bias_delta = learing_rate * self.error\n",
    "        \n",
    "    def update(self):\n",
    "        \"\"\"update weights and bias with deltas\"\"\"\n",
    "        self.weights = [weight - delta for weight, delta in zip(self.weights, self.weight_deltas)]\n",
    "        self.bias = self.bias - self.bias_delta\n",
    "\n",
    "    def __str__(self):\n",
    "        return f\"<Neuron weights: {self.weights} en bias: {self.bias}>\""
   ]
  },
  {
   "cell_type": "markdown",
   "metadata": {},
   "source": [
    "### sigmoid functie en de afgeleide van de sigmoid"
   ]
  },
  {
   "cell_type": "code",
   "execution_count": null,
   "metadata": {},
   "outputs": [],
   "source": [
    "def sigmoid(x: float):\n",
    "    return 1 / (1 + math.e ** (-x))\n",
    "\n",
    "\n",
    "def deriv_sigmoid(x: float):\n",
    "    return sigmoid(x) * (1 - sigmoid(x))"
   ]
  },
  {
   "cell_type": "markdown",
   "metadata": {},
   "source": [
    "## Neuron netwerk / Neuron layer"
   ]
  },
  {
   "cell_type": "code",
   "execution_count": null,
   "metadata": {},
   "outputs": [],
   "source": [
    "class NeuronLayer:\n",
    "    \"\"\"a layer has one or more neurons\"\"\"\n",
    "    neurons: List[Neuron]\n",
    "\n",
    "    def __init__(self, neurons: List[Neuron]):\n",
    "        self.neurons = neurons\n"
   ]
  },
  {
   "cell_type": "code",
   "execution_count": null,
   "metadata": {},
   "outputs": [],
   "source": [
    "class NeuronNetwork:\n",
    "    \"\"\"a network has one or more layers\"\"\"\n",
    "    neuron_layers: List[NeuronLayer]\n",
    "\n",
    "    def __init__(self, neuron_layers: List[NeuronLayer]):\n",
    "        self.neuron_layers = neuron_layers\n",
    "\n",
    "    def feed_forward(self, inputs: List[float]) -> List[List[float]]:\n",
    "        \"\"\"gives ouput of a network given a input\"\"\"\n",
    "        output_and_input = [inputs]\n",
    "        \"\"\"input and output is used to store the output of a layer and uses it as a input for the next layer\"\"\"\n",
    "        for layer in self.neuron_layers:\n",
    "            \"\"\"loop through all the layers\"\"\"\n",
    "            output_and_input.append(list(n.output(output_and_input[-1]) for n in layer.neurons))\n",
    "            \n",
    "        return output_and_input\n",
    "    \n",
    "    def backpropagation(self, targets: List[float], learing_rate: float):\n",
    "        \"\"\"calculates errors of the neurons.\n",
    "        begins with the output-layer and calculates back to the input-layer.\n",
    "        afterwards the weights adn bias get updated.\"\"\"\n",
    "        output_layer = self.neuron_layer[-1]\n",
    "        \n",
    "        for i in range(len(output_layer.neurons)): # calculate error of output-layer neurons\n",
    "            output_layer.neurons[i].output_error(targets[i])\n",
    "            \n",
    "        for layer in self.neuron_layers[:-1].reverse() #calculate error of hiddenlayer neurons from back to front\n",
    "            for i in range(len(layer)):\n",
    "                layer.neurons[i].hidden_output_error(output_layer.neurons, i)\n",
    "            output_layer = layer\n",
    "                \n",
    "        for layer in self.neuron_layers: # update the weights and bias\n",
    "            for neuron in layer.neurons:\n",
    "                neuron.update(learing_rate)\n",
    "                "
   ]
  },
  {
   "cell_type": "code",
   "execution_count": null,
   "metadata": {},
   "outputs": [],
   "source": []
  }
 ],
 "metadata": {
  "kernelspec": {
   "display_name": "Python 3",
   "language": "python",
   "name": "python3"
  },
  "language_info": {
   "codemirror_mode": {
    "name": "ipython",
    "version": 3
   },
   "file_extension": ".py",
   "mimetype": "text/x-python",
   "name": "python",
   "nbconvert_exporter": "python",
   "pygments_lexer": "ipython3",
   "version": "3.7.6"
  }
 },
 "nbformat": 4,
 "nbformat_minor": 4
}
