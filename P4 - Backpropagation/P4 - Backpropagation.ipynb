{
 "cells": [
  {
   "cell_type": "markdown",
   "metadata": {},
   "source": [
    "# P4 Backpropagation "
   ]
  },
  {
   "cell_type": "code",
   "execution_count": 1,
   "metadata": {},
   "outputs": [],
   "source": [
    "from Neuron import Neuron, sigmoid, deriv_sigmoid\n",
    "from NeuronLayer import NeuronLayer\n",
    "from NeuronNetwork import NeuronNetwork\n",
    "import random # nodig om een netwerk te maken met random weights en bias\n",
    "from typing import List, Tuple\n",
    "import math\n",
    "from sklearn.metrics import mean_squared_error # om te kijken hoe accuraat het netwerk is"
   ]
  },
  {
   "cell_type": "markdown",
   "metadata": {},
   "source": [
    "### functie voor het maken van een random network, om te trainen."
   ]
  },
  {
   "cell_type": "code",
   "execution_count": 2,
   "metadata": {},
   "outputs": [],
   "source": [
    "def make_random_network(shape: List[int]):\n",
    "    return NeuronNetwork([\n",
    "                NeuronLayer([\n",
    "                    Neuron([random.uniform(0, 1) for _ in range(shape[i-1])], random.uniform(0, 1)) for _ in range(shape[i])\n",
    "                ])\n",
    "                for i in range(1, len(shape))\n",
    "    ])"
   ]
  },
  {
   "cell_type": "markdown",
   "metadata": {},
   "source": [
    "## tests"
   ]
  },
  {
   "cell_type": "code",
   "execution_count": 3,
   "metadata": {},
   "outputs": [],
   "source": [
    "#parameters\n",
    "learning_rate = 0.05\n",
    "epochs = 10000"
   ]
  },
  {
   "cell_type": "markdown",
   "metadata": {},
   "source": [
    "### maak input en target data om mee te trainen."
   ]
  },
  {
   "cell_type": "code",
   "execution_count": 4,
   "metadata": {},
   "outputs": [],
   "source": [
    "\"\"\"AND-poort data\"\"\"\n",
    "AND_input = [\n",
    "    [0, 0],\n",
    "    [0, 1],\n",
    "    [1, 0],\n",
    "    [1, 1]\n",
    "]\n",
    "AND_target = [\n",
    "    [0], \n",
    "    [0], \n",
    "    [0], \n",
    "    [1]\n",
    "]\n",
    "\n",
    "\"\"\"XOR-poort data\"\"\"\n",
    "XOR_input = [\n",
    "    [0, 0],\n",
    "    [0, 1],\n",
    "    [1, 0],\n",
    "    [1, 1]\n",
    "]\n",
    "XOR_target = [\n",
    "    [0], \n",
    "    [1], \n",
    "    [1], \n",
    "    [0]\n",
    "]\n",
    "\n",
    "\"\"\"HALf-ADDER data\"\"\"\n",
    "HALF_ADDER_input = [\n",
    "    [0, 0],\n",
    "    [0, 1],\n",
    "    [1, 0],\n",
    "    [1, 1]\n",
    "]\n",
    "HALF_ADDER_target = [\n",
    "    [0, 0], \n",
    "    [1, 0], \n",
    "    [1, 0], \n",
    "    [0, 1]\n",
    "]"
   ]
  },
  {
   "cell_type": "markdown",
   "metadata": {},
   "source": [
    "### AND-poort"
   ]
  },
  {
   "cell_type": "code",
   "execution_count": 5,
   "metadata": {},
   "outputs": [
    {
     "name": "stdout",
     "output_type": "stream",
     "text": [
      "started training\n",
      "finished training, for all the 10000 epochs!\n"
     ]
    }
   ],
   "source": [
    "AND = make_random_network([2, 1])\n",
    "\n",
    "AND.train(AND_input, AND_target, epochs, learning_rate)"
   ]
  },
  {
   "cell_type": "markdown",
   "metadata": {},
   "source": [
    "### netwerk score"
   ]
  },
  {
   "cell_type": "code",
   "execution_count": 6,
   "metadata": {},
   "outputs": [
    {
     "data": {
      "text/plain": [
       "0.005709659019326513"
      ]
     },
     "execution_count": 6,
     "metadata": {},
     "output_type": "execute_result"
    }
   ],
   "source": [
    "# score word gemeten met mean squared error voor alle mogelijke inputs\n",
    "mean_squared_error([tar[0] for tar in AND_target], [AND.feed_forward(inp)[-1][-1] for inp in AND_input])"
   ]
  },
  {
   "cell_type": "markdown",
   "metadata": {},
   "source": [
    "prima score!"
   ]
  },
  {
   "cell_type": "markdown",
   "metadata": {},
   "source": [
    "### XOR-poort"
   ]
  },
  {
   "cell_type": "code",
   "execution_count": 7,
   "metadata": {},
   "outputs": [
    {
     "name": "stdout",
     "output_type": "stream",
     "text": [
      "started training\n",
      "finished training, for all the 10000 epochs!\n"
     ]
    }
   ],
   "source": [
    "XOR = make_random_network([2, 2, 1])\n",
    "\n",
    "XOR.train(XOR_input, XOR_target, epochs, learning_rate)"
   ]
  },
  {
   "cell_type": "markdown",
   "metadata": {},
   "source": [
    "### netwerk score"
   ]
  },
  {
   "cell_type": "code",
   "execution_count": 8,
   "metadata": {},
   "outputs": [
    {
     "data": {
      "text/plain": [
       "0.17072501575460636"
      ]
     },
     "execution_count": 8,
     "metadata": {},
     "output_type": "execute_result"
    }
   ],
   "source": [
    "# score word gemeten met mean squared error voor alle mogelijke inputs\n",
    "mean_squared_error([tar[0] for tar in XOR_target], [XOR.feed_forward(inp)[-1][-1] for inp in XOR_input])"
   ]
  },
  {
   "cell_type": "markdown",
   "metadata": {},
   "source": [
    "prima score!"
   ]
  },
  {
   "cell_type": "markdown",
   "metadata": {},
   "source": [
    "### HALF-ADDER"
   ]
  },
  {
   "cell_type": "code",
   "execution_count": 9,
   "metadata": {},
   "outputs": [
    {
     "name": "stdout",
     "output_type": "stream",
     "text": [
      "started training\n",
      "finished training, for all the 10000 epochs!\n"
     ]
    }
   ],
   "source": [
    "HALF_ADDER = make_random_network([2, 2, 2])\n",
    "\n",
    "HALF_ADDER.train(HALF_ADDER_input, HALF_ADDER_target, epochs, learning_rate)"
   ]
  },
  {
   "cell_type": "markdown",
   "metadata": {},
   "source": [
    "### netwerk score"
   ]
  },
  {
   "cell_type": "code",
   "execution_count": 10,
   "metadata": {},
   "outputs": [
    {
     "data": {
      "text/plain": [
       "0.005709659019326513"
      ]
     },
     "execution_count": 10,
     "metadata": {},
     "output_type": "execute_result"
    }
   ],
   "source": [
    "# score word gemeten met mean squared error voor alle mogelijke inputs\n",
    "mean_squared_error([tar[0] for tar in AND_target], [AND.feed_forward(inp)[-1][-1] for inp in AND_input])"
   ]
  },
  {
   "cell_type": "markdown",
   "metadata": {},
   "source": [
    "prima score!"
   ]
  },
  {
   "cell_type": "markdown",
   "metadata": {},
   "source": [
    "het is mij helaas niet gelukt om het model met de iris data of de digits data te trainen."
   ]
  }
 ],
 "metadata": {
  "kernelspec": {
   "display_name": "Python 3",
   "language": "python",
   "name": "python3"
  },
  "language_info": {
   "codemirror_mode": {
    "name": "ipython",
    "version": 3
   },
   "file_extension": ".py",
   "mimetype": "text/x-python",
   "name": "python",
   "nbconvert_exporter": "python",
   "pygments_lexer": "ipython3",
   "version": "3.7.6"
  }
 },
 "nbformat": 4,
 "nbformat_minor": 4
}
